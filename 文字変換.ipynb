{
  "nbformat": 4,
  "nbformat_minor": 0,
  "metadata": {
    "colab": {
      "provenance": [],
      "authorship_tag": "ABX9TyMjcimjog2iBbzgJQheZ5H5",
      "include_colab_link": true
    },
    "kernelspec": {
      "name": "python3",
      "display_name": "Python 3"
    },
    "language_info": {
      "name": "python"
    }
  },
  "cells": [
    {
      "cell_type": "markdown",
      "metadata": {
        "id": "view-in-github",
        "colab_type": "text"
      },
      "source": [
        "<a href=\"https://colab.research.google.com/github/soutanic/2-/blob/main/%E6%96%87%E5%AD%97%E5%A4%89%E6%8F%9B.ipynb\" target=\"_parent\"><img src=\"https://colab.research.google.com/assets/colab-badge.svg\" alt=\"Open In Colab\"/></a>"
      ]
    },
    {
      "cell_type": "code",
      "execution_count": 1,
      "metadata": {
        "colab": {
          "base_uri": "https://localhost:8080/"
        },
        "id": "FzMIbLA_zfnk",
        "outputId": "aec0779b-213d-4c5f-81f1-94839e001a61"
      },
      "outputs": [
        {
          "output_type": "stream",
          "name": "stdout",
          "text": [
            "文字→数字/0　数字→文字/10\n",
            "文字を入力してくださいorenokatinanndemaketakaasitamadekanngaetoitekudasai\n",
            "変換された文字：242714232420102918231023231314221020142910201010281829102210131420102323161014292418291420301310281018\n",
            "変換された文字：242714232420102918231023231314221020142910201010281829102210131420102323161014292418291420301310281018\n"
          ]
        }
      ],
      "source": [
        "#文字に対応した数字\n",
        "my_list=['a','b','c','d','e','f','g','h','i','j','k','l','m','n','o','p','q','r','s','t','u','v','w','x','y','z']\n",
        "#変換選択\n",
        "letter_num=input('文字→数字/0　数字→文字/1')\n",
        " #文字→数字に変換\n",
        "if letter_num=='0':\n",
        " print_data='変換された文字：'\n",
        " user_input=input('文字を入力してください')\n",
        " length=len(user_input)\n",
        " count= 0\n",
        " while count < length:\n",
        "     tensya=user_input[count]\n",
        "     if tensya in my_list:\n",
        "      index=my_list.index(tensya)\n",
        "      output=f'{index}'\n",
        "      output=int(output)\n",
        "      output+=10\n",
        "      output=str(output)\n",
        "      print_data=print_data+''+output\n",
        "     count+=1\n",
        " print(print_data)\n",
        "#数字→文字に変換\n",
        "elif letter_num=='1':\n",
        " count=0\n",
        " print_data=''\n",
        " user_input=input('数字を入力')\n",
        " length=len(user_input)\n",
        " while count < length:\n",
        "  tensya=''\n",
        "  tensya=tensya+''+user_input[count:count+2]\n",
        "  count+=2\n",
        "  tensya=int(tensya)\n",
        "  tensya=tensya-10\n",
        "  print_data=print_data+''+my_list[tensya]\n",
        "print(print_data)"
      ]
    },
    {
      "cell_type": "code",
      "source": [],
      "metadata": {
        "colab": {
          "base_uri": "https://localhost:8080/",
          "height": 418
        },
        "id": "BOigjBDrinnQ",
        "outputId": "fa78591d-c6c8-4924-f06f-579d97355860"
      },
      "execution_count": null,
      "outputs": [
        {
          "output_type": "error",
          "ename": "PyperclipException",
          "evalue": "ignored",
          "traceback": [
            "\u001b[0;31m---------------------------------------------------------------------------\u001b[0m",
            "\u001b[0;31mPyperclipException\u001b[0m                        Traceback (most recent call last)",
            "\u001b[0;32m<ipython-input-16-89e50bbcc4b0>\u001b[0m in \u001b[0;36m<cell line: 4>\u001b[0;34m()\u001b[0m\n\u001b[1;32m      2\u001b[0m \u001b[0;34m\u001b[0m\u001b[0m\n\u001b[1;32m      3\u001b[0m \u001b[0;31m# クリップボードからテキストを取得\u001b[0m\u001b[0;34m\u001b[0m\u001b[0;34m\u001b[0m\u001b[0m\n\u001b[0;32m----> 4\u001b[0;31m \u001b[0mcopied_text\u001b[0m \u001b[0;34m=\u001b[0m \u001b[0mpyperclip\u001b[0m\u001b[0;34m.\u001b[0m\u001b[0mpaste\u001b[0m\u001b[0;34m(\u001b[0m\u001b[0;34m)\u001b[0m\u001b[0;34m\u001b[0m\u001b[0;34m\u001b[0m\u001b[0m\n\u001b[0m\u001b[1;32m      5\u001b[0m \u001b[0mprint\u001b[0m\u001b[0;34m(\u001b[0m\u001b[0mcopied_text\u001b[0m\u001b[0;34m)\u001b[0m\u001b[0;34m\u001b[0m\u001b[0;34m\u001b[0m\u001b[0m\n",
            "\u001b[0;32m/usr/local/lib/python3.10/dist-packages/pyperclip/__init__.py\u001b[0m in \u001b[0;36m__call__\u001b[0;34m(self, *args, **kwargs)\u001b[0m\n\u001b[1;32m    334\u001b[0m \u001b[0;34m\u001b[0m\u001b[0m\n\u001b[1;32m    335\u001b[0m         \u001b[0;32mdef\u001b[0m \u001b[0m__call__\u001b[0m\u001b[0;34m(\u001b[0m\u001b[0mself\u001b[0m\u001b[0;34m,\u001b[0m \u001b[0;34m*\u001b[0m\u001b[0margs\u001b[0m\u001b[0;34m,\u001b[0m \u001b[0;34m**\u001b[0m\u001b[0mkwargs\u001b[0m\u001b[0;34m)\u001b[0m\u001b[0;34m:\u001b[0m\u001b[0;34m\u001b[0m\u001b[0;34m\u001b[0m\u001b[0m\n\u001b[0;32m--> 336\u001b[0;31m             \u001b[0;32mraise\u001b[0m \u001b[0mPyperclipException\u001b[0m\u001b[0;34m(\u001b[0m\u001b[0mEXCEPT_MSG\u001b[0m\u001b[0;34m)\u001b[0m\u001b[0;34m\u001b[0m\u001b[0;34m\u001b[0m\u001b[0m\n\u001b[0m\u001b[1;32m    337\u001b[0m \u001b[0;34m\u001b[0m\u001b[0m\n\u001b[1;32m    338\u001b[0m         \u001b[0;32mif\u001b[0m \u001b[0mPY2\u001b[0m\u001b[0;34m:\u001b[0m\u001b[0;34m\u001b[0m\u001b[0;34m\u001b[0m\u001b[0m\n",
            "\u001b[0;31mPyperclipException\u001b[0m: \n    Pyperclip could not find a copy/paste mechanism for your system.\n    For more information, please visit https://pyperclip.readthedocs.io/en/latest/index.html#not-implemented-error "
          ]
        }
      ]
    }
  ]
}